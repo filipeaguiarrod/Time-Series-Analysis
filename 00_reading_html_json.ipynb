{
 "cells": [
  {
   "cell_type": "code",
   "execution_count": 13,
   "metadata": {
    "execution": {
     "iopub.execute_input": "2021-05-06T23:31:49.711934Z",
     "iopub.status.busy": "2021-05-06T23:31:49.711934Z",
     "iopub.status.idle": "2021-05-06T23:31:49.727432Z",
     "shell.execute_reply": "2021-05-06T23:31:49.726431Z",
     "shell.execute_reply.started": "2021-05-06T23:31:49.711934Z"
    }
   },
   "outputs": [],
   "source": [
    "import pandas as pd\n",
    "import html5lib\n",
    "import json"
   ]
  },
  {
   "cell_type": "markdown",
   "metadata": {
    "execution": {
     "iopub.execute_input": "2021-05-06T23:31:11.807798Z",
     "iopub.status.busy": "2021-05-06T23:31:11.807798Z",
     "iopub.status.idle": "2021-05-06T23:31:11.818316Z",
     "shell.execute_reply": "2021-05-06T23:31:11.817315Z",
     "shell.execute_reply.started": "2021-05-06T23:31:11.807798Z"
    }
   },
   "source": [
    "### Importing html"
   ]
  },
  {
   "cell_type": "code",
   "execution_count": 2,
   "metadata": {
    "collapsed": true,
    "execution": {
     "iopub.execute_input": "2021-05-06T23:27:12.357005Z",
     "iopub.status.busy": "2021-05-06T23:27:12.356006Z",
     "iopub.status.idle": "2021-05-06T23:27:13.665153Z",
     "shell.execute_reply": "2021-05-06T23:27:13.665153Z",
     "shell.execute_reply.started": "2021-05-06T23:27:12.357005Z"
    },
    "jupyter": {
     "outputs_hidden": true
    }
   },
   "outputs": [],
   "source": [
    "br = pd.read_html(\"https://pt.wikipedia.org/wiki/Unidades_federativas_do_Brasil\")"
   ]
  },
  {
   "cell_type": "code",
   "execution_count": 4,
   "metadata": {
    "collapsed": true,
    "execution": {
     "iopub.execute_input": "2021-05-06T23:27:20.411591Z",
     "iopub.status.busy": "2021-05-06T23:27:20.411591Z",
     "iopub.status.idle": "2021-05-06T23:27:20.428590Z",
     "shell.execute_reply": "2021-05-06T23:27:20.428590Z",
     "shell.execute_reply.started": "2021-05-06T23:27:20.411591Z"
    },
    "jupyter": {
     "outputs_hidden": true
    }
   },
   "outputs": [
    {
     "data": {
      "text/plain": [
       "list"
      ]
     },
     "execution_count": 4,
     "metadata": {},
     "output_type": "execute_result"
    }
   ],
   "source": [
    "type(br)"
   ]
  },
  {
   "cell_type": "code",
   "execution_count": 6,
   "metadata": {
    "collapsed": true,
    "execution": {
     "iopub.execute_input": "2021-05-06T23:28:19.776592Z",
     "iopub.status.busy": "2021-05-06T23:28:19.776592Z",
     "iopub.status.idle": "2021-05-06T23:28:19.793593Z",
     "shell.execute_reply": "2021-05-06T23:28:19.792593Z",
     "shell.execute_reply.started": "2021-05-06T23:28:19.776592Z"
    },
    "jupyter": {
     "outputs_hidden": true
    }
   },
   "outputs": [
    {
     "name": "stdout",
     "output_type": "stream",
     "text": [
      "    Bandeira   Unidade federativa Abreviação Sede de governo   Área (km²)  \\\n",
      "0        NaN                 Acre         AC      Rio Branco    164 122,2   \n",
      "1        NaN              Alagoas         AL          Maceió     27 767,7   \n",
      "2        NaN                Amapá         AP          Macapá    142 814,6   \n",
      "3        NaN             Amazonas         AM          Manaus  1 570 745,7   \n",
      "4        NaN                Bahia         BA        Salvador    564 692,7   \n",
      "5        NaN                Ceará         CE       Fortaleza    148 825,6   \n",
      "6        NaN     Distrito Federal         DF        Brasília      5 822,1   \n",
      "7        NaN       Espírito Santo         ES         Vitória     46 077,5   \n",
      "8        NaN                Goiás         GO         Goiânia    340 086,7   \n",
      "9        NaN             Maranhão         MA        São Luís    331 983,3   \n",
      "10       NaN          Mato Grosso         MT          Cuiabá    903 357,9   \n",
      "11       NaN   Mato Grosso do Sul         MS    Campo Grande    357 125,0   \n",
      "12       NaN         Minas Gerais         MG  Belo Horizonte    586 528,3   \n",
      "13       NaN                 Pará         PA           Belém  1 247 689,5   \n",
      "14       NaN              Paraíba         PB     João Pessoa     56 439,8   \n",
      "15       NaN               Paraná         PR        Curitiba    199 314,9   \n",
      "16       NaN           Pernambuco         PE          Recife     98 311,6   \n",
      "17       NaN                Piauí         PI        Teresina    251 529,2   \n",
      "18       NaN       Rio de Janeiro         RJ  Rio de Janeiro     43 696,1   \n",
      "19       NaN  Rio Grande do Norte         RN           Natal     52 796,8   \n",
      "20       NaN    Rio Grande do Sul         RS    Porto Alegre    281 748,5   \n",
      "21       NaN             Rondônia         RO     Porto Velho    237 576,2   \n",
      "22       NaN              Roraima         RR       Boa Vista    224 299,0   \n",
      "23       NaN       Santa Catarina         SC   Florianópolis     95 346,2   \n",
      "24       NaN            São Paulo         SP       São Paulo    248 209,4   \n",
      "25       NaN              Sergipe         SE         Aracaju     21 910,3   \n",
      "26       NaN            Tocantins         TO          Palmas    277 620,9   \n",
      "\n",
      "   População (2014)  Densidade (2005)     PIB (2015)  (% total) (2015)  \\\n",
      "0           795 145               430     13 622 000                 2   \n",
      "1         3 327 551             10861     46 364 000                 8   \n",
      "2           756 500               416     13 861 000                 2   \n",
      "3         3 893 763               205     86 560 000                14   \n",
      "4        15 150 143              2446    245 025 000                41   \n",
      "5         8 867 448              5440    130 621 000                22   \n",
      "6         2 867 869             40073    215 613 000                36   \n",
      "7         3 894 899              7397    120 363 000                 2   \n",
      "8         6 551 322              1652    173 632 000                29   \n",
      "9         6 861 924              1838     78 475 000                13   \n",
      "10        3 236 578               310    107 418 000                18   \n",
      "11        2 630 098               634     83 082 000                14   \n",
      "12       20 777 672              3279    519 326 000                87   \n",
      "13        8 101 180               558    130 883 000                22   \n",
      "14        3 950 359              6371     56 140 000                 9   \n",
      "15       11 112 062              5148    376 960 000                63   \n",
      "16        9 297 861              8558    156 955 000                26   \n",
      "17        3 198 185              1195     39 148 000                 7   \n",
      "18       16 497 395             35205    659 137 000                11   \n",
      "19        3 419 550              5688     57 250 000                 1   \n",
      "20       11 228 091              3849    381 985 000                64   \n",
      "21        1 755 015               646     36 563 000                 6   \n",
      "22          500 826               174     10 354 000                 2   \n",
      "23        6 734 568              6153    249 073 000                42   \n",
      "24       44 169 350             16293  1 939 890 000               324   \n",
      "25        2 227 294              8981     38 554 000                 6   \n",
      "26        1 502 759               470     28 930 000                 5   \n",
      "\n",
      "   PIB per capita (R$) (2015)  IDH (2010) Alfabetização (2016)  \\\n",
      "0                   16 953,46         663                86,9%   \n",
      "1                   13 877,53         631                80,6%   \n",
      "2                   18 079,54         708                  95%   \n",
      "3                   21 978,95         674                93,1%   \n",
      "4                   16 115,89         660                  87%   \n",
      "5                   14 669,14         682                84,8%   \n",
      "6                   73 971,05         824                97,4%   \n",
      "7                   30 627,45         740                93,8%   \n",
      "8                   26 265,32         735                93,5%   \n",
      "9                   11 366,23         639                83,3%   \n",
      "10                  32 894,96         725                93,5%   \n",
      "11                  31 337,22         729                93,7%   \n",
      "12                  24 884,94         731                93,8%   \n",
      "13                  16 009,98         646                90,7%   \n",
      "14                  14 133,32         658                83,7%   \n",
      "15                  33 768,62         749                95,5%   \n",
      "16                  16 795,34         673                87,2%   \n",
      "17                  12 218,51         646                82,8%   \n",
      "18                  39 826,95         761                97,3%   \n",
      "19                  16 631,86         684                85,3%   \n",
      "20                  33 960,36         746                96,8%   \n",
      "21                  20 677,95         690                93,3%   \n",
      "22                  20 476,71         707                93,4%   \n",
      "23                  36 525,28         774                97,2%   \n",
      "24                  43 694,68         783                97,2%   \n",
      "25                  17 189,28         665                85,3%   \n",
      "26                  19 094,16         699                89,6%   \n",
      "\n",
      "   Mortalidade infantil (2016) Expectativa de vida (2016)  \n",
      "0                        17,0‰                  73,9 anos  \n",
      "1                        19,5‰                  71,6 anos  \n",
      "2                        23,2‰                  73,9 anos  \n",
      "3                        18,2‰                  71,9 anos  \n",
      "4                        17,3‰                  73,5 anos  \n",
      "5                        14,4‰                  73,8 anos  \n",
      "6                        10,5‰                  78,1 anos  \n",
      "7                         8,8‰                  78,2 anos  \n",
      "8                        14,9‰                  74,2 anos  \n",
      "9                        21,3‰                  70,6 anos  \n",
      "10                       16,9‰                  74,2 anos  \n",
      "11                       14,0‰                  75,5 anos  \n",
      "12                       10,9‰                  77,2 anos  \n",
      "13                       16,6‰                  72,1 anos  \n",
      "14                       16,1‰                  73,2 anos  \n",
      "15                        9,3‰                  77,1 anos  \n",
      "16                       12,7‰                  73,9 anos  \n",
      "17                       19,1‰                  71,1 anos  \n",
      "18                       11,5‰                  76,2 anos  \n",
      "19                       14,7‰                  75,7 anos  \n",
      "20                        9,6‰                  77,8 anos  \n",
      "21                       20,0‰                  71,3 anos  \n",
      "22                       17,2‰                  71,5 anos  \n",
      "23                        9,2‰                  79,1 anos  \n",
      "24                        9,9‰                  78,1 anos  \n",
      "25                       16,2‰                  72,7 anos  \n",
      "26                       15,8‰                  73,4 anos  \n"
     ]
    }
   ],
   "source": [
    "print(br[1])"
   ]
  },
  {
   "cell_type": "code",
   "execution_count": 7,
   "metadata": {
    "collapsed": true,
    "execution": {
     "iopub.execute_input": "2021-05-06T23:29:25.772808Z",
     "iopub.status.busy": "2021-05-06T23:29:25.772808Z",
     "iopub.status.idle": "2021-05-06T23:29:26.611421Z",
     "shell.execute_reply": "2021-05-06T23:29:26.611421Z",
     "shell.execute_reply.started": "2021-05-06T23:29:25.772808Z"
    },
    "jupyter": {
     "outputs_hidden": true
    }
   },
   "outputs": [],
   "source": [
    "bancos = pd.read_html('https://pt.wikipedia.org/wiki/Lista_dos_maiores_bancos_do_Brasil')"
   ]
  },
  {
   "cell_type": "code",
   "execution_count": 9,
   "metadata": {
    "collapsed": true,
    "execution": {
     "iopub.execute_input": "2021-05-06T23:29:36.008734Z",
     "iopub.status.busy": "2021-05-06T23:29:36.008734Z",
     "iopub.status.idle": "2021-05-06T23:29:36.012737Z",
     "shell.execute_reply": "2021-05-06T23:29:36.012737Z",
     "shell.execute_reply.started": "2021-05-06T23:29:36.008734Z"
    },
    "jupyter": {
     "outputs_hidden": true
    }
   },
   "outputs": [
    {
     "data": {
      "text/plain": [
       "9"
      ]
     },
     "execution_count": 9,
     "metadata": {},
     "output_type": "execute_result"
    }
   ],
   "source": [
    "len(bancos)"
   ]
  },
  {
   "cell_type": "code",
   "execution_count": 11,
   "metadata": {
    "collapsed": true,
    "execution": {
     "iopub.execute_input": "2021-05-06T23:30:32.219960Z",
     "iopub.status.busy": "2021-05-06T23:30:32.219960Z",
     "iopub.status.idle": "2021-05-06T23:30:32.239962Z",
     "shell.execute_reply": "2021-05-06T23:30:32.239962Z",
     "shell.execute_reply.started": "2021-05-06T23:30:32.219960Z"
    },
    "jupyter": {
     "outputs_hidden": true
    }
   },
   "outputs": [
    {
     "data": {
      "text/html": [
       "<div>\n",
       "<style scoped>\n",
       "    .dataframe tbody tr th:only-of-type {\n",
       "        vertical-align: middle;\n",
       "    }\n",
       "\n",
       "    .dataframe tbody tr th {\n",
       "        vertical-align: top;\n",
       "    }\n",
       "\n",
       "    .dataframe thead th {\n",
       "        text-align: right;\n",
       "    }\n",
       "</style>\n",
       "<table border=\"1\" class=\"dataframe\">\n",
       "  <thead>\n",
       "    <tr style=\"text-align: right;\">\n",
       "      <th></th>\n",
       "      <th>Posição</th>\n",
       "      <th>Nome do banco</th>\n",
       "      <th>Cidade sede</th>\n",
       "      <th>Lucro em R$ (milhões)</th>\n",
       "      <th>Ano dos dados</th>\n",
       "      <th>País de origem</th>\n",
       "    </tr>\n",
       "  </thead>\n",
       "  <tbody>\n",
       "    <tr>\n",
       "      <th>0</th>\n",
       "      <td>1</td>\n",
       "      <td>Banco Bradesco</td>\n",
       "      <td>Osasco</td>\n",
       "      <td>22.6235</td>\n",
       "      <td>2019</td>\n",
       "      <td>Brasil</td>\n",
       "    </tr>\n",
       "    <tr>\n",
       "      <th>1</th>\n",
       "      <td>2</td>\n",
       "      <td>Banco Itaú Unibanco</td>\n",
       "      <td>São Paulo</td>\n",
       "      <td>22.1177</td>\n",
       "      <td>2019</td>\n",
       "      <td>Brasil</td>\n",
       "    </tr>\n",
       "    <tr>\n",
       "      <th>2</th>\n",
       "      <td>3</td>\n",
       "      <td>Caixa Econômica Federal</td>\n",
       "      <td>Osasco</td>\n",
       "      <td>17.4896</td>\n",
       "      <td>2019</td>\n",
       "      <td>Brasil</td>\n",
       "    </tr>\n",
       "    <tr>\n",
       "      <th>3</th>\n",
       "      <td>4</td>\n",
       "      <td>Banco do Brasil</td>\n",
       "      <td>São Paulo</td>\n",
       "      <td>15.6851</td>\n",
       "      <td>2019</td>\n",
       "      <td>Brasil</td>\n",
       "    </tr>\n",
       "    <tr>\n",
       "      <th>4</th>\n",
       "      <td>5</td>\n",
       "      <td>Banco Santander Brasil</td>\n",
       "      <td>São Paulo</td>\n",
       "      <td>12.6092</td>\n",
       "      <td>2019</td>\n",
       "      <td>Espanha</td>\n",
       "    </tr>\n",
       "    <tr>\n",
       "      <th>5</th>\n",
       "      <td>6</td>\n",
       "      <td>Banco BTG Pactual</td>\n",
       "      <td>São Paulo</td>\n",
       "      <td>3.5938</td>\n",
       "      <td>2019</td>\n",
       "      <td>Brasil</td>\n",
       "    </tr>\n",
       "    <tr>\n",
       "      <th>6</th>\n",
       "      <td>7</td>\n",
       "      <td>Sicoob</td>\n",
       "      <td>Brasília</td>\n",
       "      <td>3.0500</td>\n",
       "      <td>2019</td>\n",
       "      <td>Brasil</td>\n",
       "    </tr>\n",
       "    <tr>\n",
       "      <th>7</th>\n",
       "      <td>8</td>\n",
       "      <td>Banco Safra</td>\n",
       "      <td>São Paulo</td>\n",
       "      <td>1.9948</td>\n",
       "      <td>2019</td>\n",
       "      <td>Brasil</td>\n",
       "    </tr>\n",
       "    <tr>\n",
       "      <th>8</th>\n",
       "      <td>9</td>\n",
       "      <td>Banco do Nordeste</td>\n",
       "      <td>Fortaleza</td>\n",
       "      <td>1.5655</td>\n",
       "      <td>2019</td>\n",
       "      <td>Brasil</td>\n",
       "    </tr>\n",
       "    <tr>\n",
       "      <th>9</th>\n",
       "      <td>10</td>\n",
       "      <td>Banco Votorantim</td>\n",
       "      <td>São Paulo</td>\n",
       "      <td>1.1834</td>\n",
       "      <td>2019</td>\n",
       "      <td>Brasil</td>\n",
       "    </tr>\n",
       "    <tr>\n",
       "      <th>10</th>\n",
       "      <td>11</td>\n",
       "      <td>Banrisul</td>\n",
       "      <td>Porto Alegre</td>\n",
       "      <td>1.1483</td>\n",
       "      <td>2019</td>\n",
       "      <td>Brasil</td>\n",
       "    </tr>\n",
       "    <tr>\n",
       "      <th>11</th>\n",
       "      <td>12</td>\n",
       "      <td>Citibank Brasil</td>\n",
       "      <td>São Paulo</td>\n",
       "      <td>9577.0000</td>\n",
       "      <td>2019</td>\n",
       "      <td>Estados Unidos</td>\n",
       "    </tr>\n",
       "  </tbody>\n",
       "</table>\n",
       "</div>"
      ],
      "text/plain": [
       "    Posição            Nome do banco   Cidade sede  Lucro em R$ (milhões)  \\\n",
       "0         1           Banco Bradesco        Osasco                22.6235   \n",
       "1         2      Banco Itaú Unibanco     São Paulo                22.1177   \n",
       "2         3  Caixa Econômica Federal        Osasco                17.4896   \n",
       "3         4          Banco do Brasil     São Paulo                15.6851   \n",
       "4         5   Banco Santander Brasil     São Paulo                12.6092   \n",
       "5         6        Banco BTG Pactual     São Paulo                 3.5938   \n",
       "6         7                   Sicoob      Brasília                 3.0500   \n",
       "7         8              Banco Safra     São Paulo                 1.9948   \n",
       "8         9        Banco do Nordeste     Fortaleza                 1.5655   \n",
       "9        10         Banco Votorantim     São Paulo                 1.1834   \n",
       "10       11                 Banrisul  Porto Alegre                 1.1483   \n",
       "11       12          Citibank Brasil     São Paulo              9577.0000   \n",
       "\n",
       "    Ano dos dados  País de origem  \n",
       "0            2019          Brasil  \n",
       "1            2019          Brasil  \n",
       "2            2019          Brasil  \n",
       "3            2019          Brasil  \n",
       "4            2019         Espanha  \n",
       "5            2019          Brasil  \n",
       "6            2019          Brasil  \n",
       "7            2019          Brasil  \n",
       "8            2019          Brasil  \n",
       "9            2019          Brasil  \n",
       "10           2019          Brasil  \n",
       "11           2019  Estados Unidos  "
      ]
     },
     "execution_count": 11,
     "metadata": {},
     "output_type": "execute_result"
    }
   ],
   "source": [
    "bancos[3]"
   ]
  },
  {
   "cell_type": "markdown",
   "metadata": {
    "execution": {
     "iopub.execute_input": "2021-05-06T23:31:11.807798Z",
     "iopub.status.busy": "2021-05-06T23:31:11.807798Z",
     "iopub.status.idle": "2021-05-06T23:31:11.818316Z",
     "shell.execute_reply": "2021-05-06T23:31:11.817315Z",
     "shell.execute_reply.started": "2021-05-06T23:31:11.807798Z"
    }
   },
   "source": [
    "### Importing html"
   ]
  },
  {
   "cell_type": "code",
   "execution_count": 14,
   "metadata": {
    "execution": {
     "iopub.execute_input": "2021-05-06T23:35:49.324435Z",
     "iopub.status.busy": "2021-05-06T23:35:49.324435Z",
     "iopub.status.idle": "2021-05-06T23:35:49.341436Z",
     "shell.execute_reply": "2021-05-06T23:35:49.340436Z",
     "shell.execute_reply.started": "2021-05-06T23:35:49.324435Z"
    }
   },
   "outputs": [
    {
     "name": "stdout",
     "output_type": "stream",
     "text": [
      "[{'Description': '', 'Image': '/wiki/File:MuryeongsTomb.jpg', 'Criteria': 'Cultural: (ii)(iii)', 'Site': 'Baekje Historic Areas', 'Area ha (acre)': '135 (330)', 'Location': 'South Chungcheong, North Jeolla', 'Year': '2015'}, {'Description': '', 'Image': '/wiki/File:Korea-Gwangju-Gochang_Dolmens_5350-06.JPG', 'Criteria': 'Cultural: (iii)', 'Site': 'Gochang, Hwasun and Ganghwa Dolmen Sites', 'Area ha (acre)': '', 'Location': 'Incheon, North Jeolla, South Jeolla', 'Year': '2000'}, {'Description': '', 'Image': '/wiki/File:Juhamnu,_Changdeokgung_-_Seoul,_Korea.JPG', 'Criteria': 'Cultural: (ii)(iii)(iv)', 'Site': 'Changdeokgung Palace Complex', 'Area ha (acre)': '', 'Location': 'Seoul', 'Year': '1997'}, {'Description': '', 'Image': '/wiki/File:Korea-Gyeongju-Bunhwangsa-Lanterns-03.jpg', 'Criteria': 'Cultural: (ii)(iii)', 'Site': 'Gyeongju Historic Areas', 'Area ha (acre)': '2,880 (7,100)', 'Location': 'North Gyeongsang', 'Year': '2000'}, {'Description': '', 'Image': '/wiki/File:Haeinsa_Temple_(6222053899).jpg', 'Criteria': 'Cultural: (iv)(vi)', 'Site': 'Haeinsa Temple Janggyeong Panjeon, the Depositories for the Tripitaka Koreana Woodblocks', 'Area ha (acre)': '', 'Location': 'South Gyeongsang', 'Year': '1995'}, {'Description': '', 'Image': '/wiki/File:Hahoe_8784.jpg', 'Criteria': 'Cultural: (iii)(iv)', 'Site': 'Historic Villages of Korea: Hahoe and Yangdong', 'Area ha (acre)': '600 (1,500)', 'Location': 'North Gyeongsang', 'Year': '2010'}, {'Description': '', 'Image': '/wiki/File:Hwaseong2.jpg', 'Criteria': 'Cultural: (ii)(iii)', 'Site': 'Hwaseong Fortress', 'Area ha (acre)': '', 'Location': 'Gyeonggi', 'Year': '1997'}, {'Description': '', 'Image': '/wiki/File:KOCIS_Halla_Mountain_in_Jeju-do_(6387785543).jpg', 'Criteria': 'Natural: (vii)(viii)', 'Site': 'Jeju Volcanic Island and Lava Tubes', 'Area ha (acre)': '9,475 (23,410)', 'Location': 'Jeju', 'Year': '2007'}, {'Description': '', 'Image': '/wiki/File:Chongmyo_repository_(1509268349).jpg', 'Criteria': 'Cultural: (iv)', 'Site': 'Jongmyo Shrine', 'Area ha (acre)': '19 (47)', 'Location': 'Seoul', 'Year': '1995'}, {'Description': '', 'Image': '/wiki/File:Khitai5.jpg', 'Criteria': 'Cultural: (ii)(iv)', 'Site': 'Namhansanseong', 'Area ha (acre)': '409 (1,010)', 'Location': 'Gyeonggi', 'Year': '2014'}, {'Description': '', 'Image': '/wiki/File:Sejong_tomb_1.jpg', 'Criteria': 'Cultural: (iii)(iv)(vi)', 'Site': 'Royal Tombs of the Joseon Dynasty', 'Area ha (acre)': '1,891 (4,670)', 'Location': 'Gyeonggi, Seoul', 'Year': '2009'}, {'Description': '', 'Image': '/wiki/File:Bulguk_Tempel.jpg', 'Criteria': 'Cultural: (i)(iv)', 'Site': 'Seokguram Grotto and Bulguksa Temple', 'Area ha (acre)': '', 'Location': 'North Gyeongsang', 'Year': '1995'}]\n"
     ]
    }
   ],
   "source": [
    "file = 'skorea.json'\n",
    "\n",
    "with open(file) as j:\n",
    "    \n",
    "    Json = json.load(j)\n",
    "\n",
    "print(Json)"
   ]
  },
  {
   "cell_type": "markdown",
   "metadata": {
    "execution": {
     "iopub.execute_input": "2021-05-06T23:36:29.991655Z",
     "iopub.status.busy": "2021-05-06T23:36:29.990644Z",
     "iopub.status.idle": "2021-05-06T23:36:29.999655Z",
     "shell.execute_reply": "2021-05-06T23:36:29.999655Z",
     "shell.execute_reply.started": "2021-05-06T23:36:29.991655Z"
    }
   },
   "source": [
    "#### Transforming in dataframe json -> Dataframe"
   ]
  },
  {
   "cell_type": "code",
   "execution_count": 16,
   "metadata": {
    "execution": {
     "iopub.execute_input": "2021-05-06T23:36:42.881946Z",
     "iopub.status.busy": "2021-05-06T23:36:42.881946Z",
     "iopub.status.idle": "2021-05-06T23:36:42.892937Z",
     "shell.execute_reply": "2021-05-06T23:36:42.891936Z",
     "shell.execute_reply.started": "2021-05-06T23:36:42.881946Z"
    }
   },
   "outputs": [],
   "source": [
    "df = pd.DataFrame(Json)"
   ]
  },
  {
   "cell_type": "code",
   "execution_count": 17,
   "metadata": {
    "execution": {
     "iopub.execute_input": "2021-05-06T23:36:46.898532Z",
     "iopub.status.busy": "2021-05-06T23:36:46.897525Z",
     "iopub.status.idle": "2021-05-06T23:36:46.919046Z",
     "shell.execute_reply": "2021-05-06T23:36:46.919046Z",
     "shell.execute_reply.started": "2021-05-06T23:36:46.898532Z"
    }
   },
   "outputs": [
    {
     "data": {
      "text/html": [
       "<div>\n",
       "<style scoped>\n",
       "    .dataframe tbody tr th:only-of-type {\n",
       "        vertical-align: middle;\n",
       "    }\n",
       "\n",
       "    .dataframe tbody tr th {\n",
       "        vertical-align: top;\n",
       "    }\n",
       "\n",
       "    .dataframe thead th {\n",
       "        text-align: right;\n",
       "    }\n",
       "</style>\n",
       "<table border=\"1\" class=\"dataframe\">\n",
       "  <thead>\n",
       "    <tr style=\"text-align: right;\">\n",
       "      <th></th>\n",
       "      <th>Description</th>\n",
       "      <th>Image</th>\n",
       "      <th>Criteria</th>\n",
       "      <th>Site</th>\n",
       "      <th>Area ha (acre)</th>\n",
       "      <th>Location</th>\n",
       "      <th>Year</th>\n",
       "    </tr>\n",
       "  </thead>\n",
       "  <tbody>\n",
       "    <tr>\n",
       "      <th>0</th>\n",
       "      <td></td>\n",
       "      <td>/wiki/File:MuryeongsTomb.jpg</td>\n",
       "      <td>Cultural: (ii)(iii)</td>\n",
       "      <td>Baekje Historic Areas</td>\n",
       "      <td>135 (330)</td>\n",
       "      <td>South Chungcheong, North Jeolla</td>\n",
       "      <td>2015</td>\n",
       "    </tr>\n",
       "    <tr>\n",
       "      <th>1</th>\n",
       "      <td></td>\n",
       "      <td>/wiki/File:Korea-Gwangju-Gochang_Dolmens_5350-...</td>\n",
       "      <td>Cultural: (iii)</td>\n",
       "      <td>Gochang, Hwasun and Ganghwa Dolmen Sites</td>\n",
       "      <td></td>\n",
       "      <td>Incheon, North Jeolla, South Jeolla</td>\n",
       "      <td>2000</td>\n",
       "    </tr>\n",
       "    <tr>\n",
       "      <th>2</th>\n",
       "      <td></td>\n",
       "      <td>/wiki/File:Juhamnu,_Changdeokgung_-_Seoul,_Kor...</td>\n",
       "      <td>Cultural: (ii)(iii)(iv)</td>\n",
       "      <td>Changdeokgung Palace Complex</td>\n",
       "      <td></td>\n",
       "      <td>Seoul</td>\n",
       "      <td>1997</td>\n",
       "    </tr>\n",
       "    <tr>\n",
       "      <th>3</th>\n",
       "      <td></td>\n",
       "      <td>/wiki/File:Korea-Gyeongju-Bunhwangsa-Lanterns-...</td>\n",
       "      <td>Cultural: (ii)(iii)</td>\n",
       "      <td>Gyeongju Historic Areas</td>\n",
       "      <td>2,880 (7,100)</td>\n",
       "      <td>North Gyeongsang</td>\n",
       "      <td>2000</td>\n",
       "    </tr>\n",
       "    <tr>\n",
       "      <th>4</th>\n",
       "      <td></td>\n",
       "      <td>/wiki/File:Haeinsa_Temple_(6222053899).jpg</td>\n",
       "      <td>Cultural: (iv)(vi)</td>\n",
       "      <td>Haeinsa Temple Janggyeong Panjeon, the Deposit...</td>\n",
       "      <td></td>\n",
       "      <td>South Gyeongsang</td>\n",
       "      <td>1995</td>\n",
       "    </tr>\n",
       "    <tr>\n",
       "      <th>5</th>\n",
       "      <td></td>\n",
       "      <td>/wiki/File:Hahoe_8784.jpg</td>\n",
       "      <td>Cultural: (iii)(iv)</td>\n",
       "      <td>Historic Villages of Korea: Hahoe and Yangdong</td>\n",
       "      <td>600 (1,500)</td>\n",
       "      <td>North Gyeongsang</td>\n",
       "      <td>2010</td>\n",
       "    </tr>\n",
       "    <tr>\n",
       "      <th>6</th>\n",
       "      <td></td>\n",
       "      <td>/wiki/File:Hwaseong2.jpg</td>\n",
       "      <td>Cultural: (ii)(iii)</td>\n",
       "      <td>Hwaseong Fortress</td>\n",
       "      <td></td>\n",
       "      <td>Gyeonggi</td>\n",
       "      <td>1997</td>\n",
       "    </tr>\n",
       "    <tr>\n",
       "      <th>7</th>\n",
       "      <td></td>\n",
       "      <td>/wiki/File:KOCIS_Halla_Mountain_in_Jeju-do_(63...</td>\n",
       "      <td>Natural: (vii)(viii)</td>\n",
       "      <td>Jeju Volcanic Island and Lava Tubes</td>\n",
       "      <td>9,475 (23,410)</td>\n",
       "      <td>Jeju</td>\n",
       "      <td>2007</td>\n",
       "    </tr>\n",
       "    <tr>\n",
       "      <th>8</th>\n",
       "      <td></td>\n",
       "      <td>/wiki/File:Chongmyo_repository_(1509268349).jpg</td>\n",
       "      <td>Cultural: (iv)</td>\n",
       "      <td>Jongmyo Shrine</td>\n",
       "      <td>19 (47)</td>\n",
       "      <td>Seoul</td>\n",
       "      <td>1995</td>\n",
       "    </tr>\n",
       "    <tr>\n",
       "      <th>9</th>\n",
       "      <td></td>\n",
       "      <td>/wiki/File:Khitai5.jpg</td>\n",
       "      <td>Cultural: (ii)(iv)</td>\n",
       "      <td>Namhansanseong</td>\n",
       "      <td>409 (1,010)</td>\n",
       "      <td>Gyeonggi</td>\n",
       "      <td>2014</td>\n",
       "    </tr>\n",
       "    <tr>\n",
       "      <th>10</th>\n",
       "      <td></td>\n",
       "      <td>/wiki/File:Sejong_tomb_1.jpg</td>\n",
       "      <td>Cultural: (iii)(iv)(vi)</td>\n",
       "      <td>Royal Tombs of the Joseon Dynasty</td>\n",
       "      <td>1,891 (4,670)</td>\n",
       "      <td>Gyeonggi, Seoul</td>\n",
       "      <td>2009</td>\n",
       "    </tr>\n",
       "    <tr>\n",
       "      <th>11</th>\n",
       "      <td></td>\n",
       "      <td>/wiki/File:Bulguk_Tempel.jpg</td>\n",
       "      <td>Cultural: (i)(iv)</td>\n",
       "      <td>Seokguram Grotto and Bulguksa Temple</td>\n",
       "      <td></td>\n",
       "      <td>North Gyeongsang</td>\n",
       "      <td>1995</td>\n",
       "    </tr>\n",
       "  </tbody>\n",
       "</table>\n",
       "</div>"
      ],
      "text/plain": [
       "   Description                                              Image  \\\n",
       "0                                    /wiki/File:MuryeongsTomb.jpg   \n",
       "1               /wiki/File:Korea-Gwangju-Gochang_Dolmens_5350-...   \n",
       "2               /wiki/File:Juhamnu,_Changdeokgung_-_Seoul,_Kor...   \n",
       "3               /wiki/File:Korea-Gyeongju-Bunhwangsa-Lanterns-...   \n",
       "4                      /wiki/File:Haeinsa_Temple_(6222053899).jpg   \n",
       "5                                       /wiki/File:Hahoe_8784.jpg   \n",
       "6                                        /wiki/File:Hwaseong2.jpg   \n",
       "7               /wiki/File:KOCIS_Halla_Mountain_in_Jeju-do_(63...   \n",
       "8                 /wiki/File:Chongmyo_repository_(1509268349).jpg   \n",
       "9                                          /wiki/File:Khitai5.jpg   \n",
       "10                                   /wiki/File:Sejong_tomb_1.jpg   \n",
       "11                                   /wiki/File:Bulguk_Tempel.jpg   \n",
       "\n",
       "                   Criteria  \\\n",
       "0       Cultural: (ii)(iii)   \n",
       "1           Cultural: (iii)   \n",
       "2   Cultural: (ii)(iii)(iv)   \n",
       "3       Cultural: (ii)(iii)   \n",
       "4        Cultural: (iv)(vi)   \n",
       "5       Cultural: (iii)(iv)   \n",
       "6       Cultural: (ii)(iii)   \n",
       "7      Natural: (vii)(viii)   \n",
       "8            Cultural: (iv)   \n",
       "9        Cultural: (ii)(iv)   \n",
       "10  Cultural: (iii)(iv)(vi)   \n",
       "11        Cultural: (i)(iv)   \n",
       "\n",
       "                                                 Site  Area ha (acre)  \\\n",
       "0                               Baekje Historic Areas       135 (330)   \n",
       "1            Gochang, Hwasun and Ganghwa Dolmen Sites                   \n",
       "2                        Changdeokgung Palace Complex                   \n",
       "3                             Gyeongju Historic Areas   2,880 (7,100)   \n",
       "4   Haeinsa Temple Janggyeong Panjeon, the Deposit...                   \n",
       "5      Historic Villages of Korea: Hahoe and Yangdong     600 (1,500)   \n",
       "6                                   Hwaseong Fortress                   \n",
       "7                 Jeju Volcanic Island and Lava Tubes  9,475 (23,410)   \n",
       "8                                      Jongmyo Shrine         19 (47)   \n",
       "9                                      Namhansanseong     409 (1,010)   \n",
       "10                  Royal Tombs of the Joseon Dynasty   1,891 (4,670)   \n",
       "11               Seokguram Grotto and Bulguksa Temple                   \n",
       "\n",
       "                               Location  Year  \n",
       "0       South Chungcheong, North Jeolla  2015  \n",
       "1   Incheon, North Jeolla, South Jeolla  2000  \n",
       "2                                 Seoul  1997  \n",
       "3                      North Gyeongsang  2000  \n",
       "4                      South Gyeongsang  1995  \n",
       "5                      North Gyeongsang  2010  \n",
       "6                              Gyeonggi  1997  \n",
       "7                                  Jeju  2007  \n",
       "8                                 Seoul  1995  \n",
       "9                              Gyeonggi  2014  \n",
       "10                      Gyeonggi, Seoul  2009  \n",
       "11                     North Gyeongsang  1995  "
      ]
     },
     "execution_count": 17,
     "metadata": {},
     "output_type": "execute_result"
    }
   ],
   "source": [
    "df "
   ]
  }
 ],
 "metadata": {
  "kernelspec": {
   "display_name": "Python 3",
   "language": "python",
   "name": "python3"
  },
  "language_info": {
   "codemirror_mode": {
    "name": "ipython",
    "version": 3
   },
   "file_extension": ".py",
   "mimetype": "text/x-python",
   "name": "python",
   "nbconvert_exporter": "python",
   "pygments_lexer": "ipython3",
   "version": "3.8.5"
  }
 },
 "nbformat": 4,
 "nbformat_minor": 4
}
